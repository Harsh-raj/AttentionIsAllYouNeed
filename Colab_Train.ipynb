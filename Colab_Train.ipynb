{
 "cells": [
  {
   "cell_type": "code",
   "execution_count": null,
   "metadata": {
    "vscode": {
     "languageId": "plaintext"
    }
   },
   "outputs": [],
   "source": [
    "%load_ext tensorboard"
   ]
  },
  {
   "cell_type": "code",
   "execution_count": null,
   "metadata": {
    "vscode": {
     "languageId": "plaintext"
    }
   },
   "outputs": [],
   "source": [
    "%%capture\n",
    "!pip install --no-cache-dir torch==2.0.1 torchvision==0.15.2 torchaudio==2.0.2 torchtext==0.15.2\n",
    "!pip install --no-cache-dir datasets==2.15.0 tokenizers==0.13.3 torchmetrics==1.0.3\n",
    "!pip install --no-cache-dir tensorboard==2.13.0 altair==5.1.1"
   ]
  },
  {
   "cell_type": "code",
   "execution_count": null,
   "metadata": {
    "vscode": {
     "languageId": "plaintext"
    }
   },
   "outputs": [],
   "source": [
    "!git clone https://github.com/Harsh-raj/AttentionIsAllYouNeed.git\n",
    "%cd /content/AttentionIsAllYouNeed/\n",
    "!git checkout assembly/features_1"
   ]
  },
  {
   "cell_type": "code",
   "execution_count": null,
   "metadata": {
    "vscode": {
     "languageId": "plaintext"
    }
   },
   "outputs": [],
   "source": [
    "!mkdir -p /content/drive/MyDrive/Models/pytorch-transformer/weights\n",
    "!mkdir -p /content/drive/MyDrive/Models/pytorch-transformer/vocab"
   ]
  },
  {
   "cell_type": "code",
   "execution_count": null,
   "metadata": {
    "vscode": {
     "languageId": "plaintext"
    }
   },
   "outputs": [],
   "source": [
    "%cd /content/AttentionIsAllYouNeed/"
   ]
  },
  {
   "cell_type": "code",
   "execution_count": null,
   "metadata": {
    "vscode": {
     "languageId": "plaintext"
    }
   },
   "outputs": [],
   "source": [
    "from config import Config\n",
    "cfg = Config.get_config()\n",
    "cfg['model_folder'] = '..//drive/MyDrive/Models/pytorch-transformer/weights'\n",
    "cfg['tokenizer_file'] = '..//drive/MyDrive/Models/pytorch-transformer/vocab/tokenizer_{0}.json'\n",
    "cfg['batch_size'] = 24\n",
    "cfg['num_epochs'] = 100\n",
    "cfg['preload'] = None\n",
    "\n",
    "from train import Train\n",
    "\n",
    "Train.train_model(cfg)"
   ]
  }
 ],
 "metadata": {
  "language_info": {
   "name": "python"
  }
 },
 "nbformat": 4,
 "nbformat_minor": 2
}
